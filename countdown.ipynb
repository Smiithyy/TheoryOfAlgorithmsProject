{
 "cells": [
  {
   "cell_type": "markdown",
   "id": "e0c1366b-95a1-4ce5-acb3-1caf30fb6c28",
   "metadata": {},
   "source": [
    "<h1>Countdown Numbers Game Notebook</h1>\n",
    "<h3>Overview of the Countdown Numbers Game?</h3>\n",
    "<p>In the Countdown Numbers Game the contestants are presented with 24 face-down numbered tiles; 20 small numbers (1 through 10 twice) and 4 large numbers (25, 50, 75 and 100). The contestant first choses how many large numbers they want to use, from none to all 4. The chosen amount of large numbers are taken randomly from the set. Small numbers are then taken randomly from the set until 6 numbers total are on the board. A random target number is then displayed ranging from 101 to 1000.\n",
    "The contestants then have 30 seconds to work out a series of calculations using the numbers, that equils as close as possible to the target number. The basic operations of addition, subtraction, multiplication and division can only be used and all 6 numbers do not need to be used.\n",
    "The contestents then recieve points based on how close they get to the target. 10 points for equaling the target, 7 points for being 1-5 away and 5 for being 6-10 away, no points are scored for being further than 10 from the target.</p>\n",
    "<h4>Example</h4>\n",
    "<p>Contestant one requests two large numbers and 4 small numbers.\n",
    "Number Selection:\n",
    "75, 50, 2, 3, 8, 7\n",
    "Randomly generated target:\n",
    "812\n",
    "\n",
    "Contestant one declares they got 813, while contestant two got 815.\n",
    "Contestant one is closer to the target and reveals their calculations: 75 + 50 - 8 = 117, 117 * 7 - (3 * 2) = 813\n",
    "Contestant one gets 7 points for this calculation, contestant two does not score.\n",
    "Notes: 50 + 8 = 58, 7 * 2 * 58 = 812, which would have score 10 points.</p>"
   ]
  },
  {
   "cell_type": "markdown",
   "id": "40fed803-76a5-4bc6-a1d1-1e77f16de8e9",
   "metadata": {},
   "source": [
    "<h2>Python function to solve the Countdown Numbers Game</h2>"
   ]
  },
  {
   "cell_type": "code",
   "execution_count": 1,
   "id": "f6a3e336-1b79-4c8b-904f-c774ddcbdf03",
   "metadata": {},
   "outputs": [],
   "source": [
    "# Permutations and combinations.\n",
    "import itertools as it\n",
    "\n",
    "# Random number generation.\n",
    "import random\n",
    "\n",
    "# Operators as functions.\n",
    "import operator"
   ]
  },
  {
   "cell_type": "code",
   "execution_count": 2,
   "id": "7faca81c-69d0-4b73-a7da-e15ee7e8a48b",
   "metadata": {},
   "outputs": [],
   "source": [
    "def new_numbers_game(no_large=None):\n",
    "    \n",
    "  # If no_large in None, randomly pick value between 0 and 4 inclusive.\n",
    "  if no_large is None:\n",
    "    # Randomly set the value.\n",
    "    no_large = random.randrange(0, 5)\n",
    "  \n",
    "  # Select random large numbers.\n",
    "  large_rand = random.sample([25, 50, 75, 100], no_large)\n",
    "  # Select random small numbers.\n",
    "  small_rand = random.sample(list(range(1, 11)) * 2, 6 - no_large)\n",
    "  # The playing numbers.\n",
    "  play_nos = large_rand + small_rand\n",
    "\n",
    "  # Select a target number.\n",
    "  target = random.randrange(101, 1000)\n",
    "\n",
    "  # Return the game.\n",
    "  return play_nos, target"
   ]
  },
  {
   "cell_type": "code",
   "execution_count": 3,
   "id": "547a2402-a912-4764-bd96-c1a1d899d209",
   "metadata": {},
   "outputs": [
    {
     "data": {
      "text/plain": [
       "([100, 7, 5, 1, 2, 3], 490)"
      ]
     },
     "execution_count": 3,
     "metadata": {},
     "output_type": "execute_result"
    }
   ],
   "source": [
    "# Display the random numbers and the random target number\n",
    "play_nos, target = new_numbers_game()\n",
    "play_nos, target"
   ]
  },
  {
   "cell_type": "code",
   "execution_count": 4,
   "id": "b148229d-88e9-441b-9a11-a2eb7d5e3f68",
   "metadata": {},
   "outputs": [],
   "source": [
    "#get all combinations of numbers\n",
    "permutations_list=[]\n",
    "for i in range(2,7):\n",
    "    #get combinations \n",
    "    permutations_list = permutations_list+list(it.permutations(play_nos,i))"
   ]
  },
  {
   "cell_type": "code",
   "execution_count": 5,
   "id": "44c991ef-96dc-40cb-bdff-f95dd822f85c",
   "metadata": {},
   "outputs": [],
   "source": [
    "# Give all 2-partitions of a list\n",
    "# where each sublist has  one element.\n",
    "def patterns(numbers, operators):\n",
    "  # Check if there is no way to partition further.\n",
    "  if len(numbers) == 1:\n",
    "    yield numbers\n",
    "  # Loop through all the ways to partition L into two non-empty sublists.\n",
    "  for i in range(1, len(numbers)):\n",
    "    # Slice the list using i.\n",
    "    for left, right in it.product(patterns(numbers[:i], operators[1:i]), patterns(numbers[i:], operators[i:])):\n",
    "      # Yield the next operator applied to the sublists.\n",
    "      yield [*left, *right, operators[0]]"
   ]
  },
  {
   "cell_type": "code",
   "execution_count": 6,
   "id": "36ad3e2a-5f40-4f64-bce0-f79434a0fae5",
   "metadata": {},
   "outputs": [],
   "source": [
    "# Evaluate RPN expression.\n",
    "def eval_rpn(rpn):\n",
    "  # A stack.\n",
    "  stack = []\n",
    "  # Loop through rpn an item at a time.\n",
    "  for i in rpn:\n",
    "    # Check if it's a number.\n",
    "    if isinstance(i, int):\n",
    "      # Append to the stack.\n",
    "      stack = stack + [i]\n",
    "    else:\n",
    "      # Pop from stack twice.\n",
    "      right = stack[-1]\n",
    "      stack = stack[:-1]\n",
    "      left = stack[-1]\n",
    "      stack = stack[:-1]\n",
    "      # Push operator applied to stack elements.\n",
    "      if i == operator.sub and left<=right:\n",
    "          return\n",
    "      if i == operator.truediv and left%right!=0:\n",
    "          return\n",
    "      \n",
    "      val = i(left, right)\n",
    "      stack = stack + [val]\n",
    "          \n",
    "  # Should only be one item on stack.\n",
    "  return stack[0]"
   ]
  },
  {
   "cell_type": "code",
   "execution_count": null,
   "id": "185e4a31-d549-4b5c-8bd7-4ea83073c585",
   "metadata": {},
   "outputs": [],
   "source": [
    "# list of operators.\n",
    "operators = [operator.add, operator.sub, operator.mul, operator.truediv]\n",
    "\n",
    "solutions = []\n",
    "# Using eval\n",
    "for p in permutations_list:\n",
    "    for ops in it.product(operators, repeat=len(p)-1):\n",
    "        for i in patterns(p, ops):\n",
    "            val = eval_rpn(i)\n",
    "            if val == target:\n",
    "                solutions.append(i)\n",
    "print(*solutions)\n",
    "\n",
    "print(len(solutions))"
   ]
  },
  {
   "cell_type": "code",
   "execution_count": null,
   "id": "e3aaa291-f769-44d4-9ad6-1dd39b05ff35",
   "metadata": {},
   "outputs": [],
   "source": []
  }
 ],
 "metadata": {
  "kernelspec": {
   "display_name": "Python 3",
   "language": "python",
   "name": "python3"
  },
  "language_info": {
   "codemirror_mode": {
    "name": "ipython",
    "version": 3
   },
   "file_extension": ".py",
   "mimetype": "text/x-python",
   "name": "python",
   "nbconvert_exporter": "python",
   "pygments_lexer": "ipython3",
   "version": "3.8.8"
  }
 },
 "nbformat": 4,
 "nbformat_minor": 5
}

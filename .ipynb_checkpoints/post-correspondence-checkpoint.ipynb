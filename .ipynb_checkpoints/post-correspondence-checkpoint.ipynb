{
 "cells": [
  {
   "cell_type": "markdown",
   "id": "71748d4d-27c8-493e-a701-601e44ae75d5",
   "metadata": {},
   "source": [
    "<h2>Post Correspondence Problem Notebook</h2>\n",
    "<hr>\n",
    "<h3>Undecidable Problems</h3>\n",
    "<p>Suppose we have an algorithm designed to to solve a decision problem. The algorithm will take in its set of input factors and return a value of either 'Yes' or 'No'. In computational theory this is known as a decidable problem. A decidable problem is defined as a problem that can have all its inputs solved using an algorithm. On the other hand, an undecidable problem is a problem in which no algorithm is capable of always returning a value for its inputs.</p>\n",
    "\n",
    "<p>It is possible to define the decidability of a problem thanks to a man called Alan Turing. If 'Turing Machine' can be constructed to halt in a finite amout of time and give an answer of yes or no then the problem is said to be decidable. Alternatively if no such Turning machine can be constructed then the problem is said to be undecidable. The idea of an undecidable problem was first posed in 1911 by a man called Max Dehn who asked if there existed a finitely presented group for which no algorithm can determine weather two words are equivalent. Dehn's theory was proven to be the case in 1952</p>\n"
   ]
  }
 ],
 "metadata": {
  "kernelspec": {
   "display_name": "Python 3",
   "language": "python",
   "name": "python3"
  },
  "language_info": {
   "codemirror_mode": {
    "name": "ipython",
    "version": 3
   },
   "file_extension": ".py",
   "mimetype": "text/x-python",
   "name": "python",
   "nbconvert_exporter": "python",
   "pygments_lexer": "ipython3",
   "version": "3.8.8"
  }
 },
 "nbformat": 4,
 "nbformat_minor": 5
}

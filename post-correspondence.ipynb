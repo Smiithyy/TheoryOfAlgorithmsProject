{
 "cells": [
  {
   "cell_type": "markdown",
   "id": "71748d4d-27c8-493e-a701-601e44ae75d5",
   "metadata": {},
   "source": [
    "<h2>Post Correspondence Problem Notebook</h2>\n",
    "<hr>\n",
    "<h3>Undecidable Problems</h3>\n",
    "<p>Suppose we have an algorithm designed to to solve a decision problem. The algorithm will take in its set of input factors and return a value of either 'Yes' or 'No'. In computational theory this is known as a decidable problem. A decidable problem is defined as a problem that can have all its inputs solved using an algorithm. On the other hand, an undecidable problem is a problem in which no algorithm is capable of always returning a value for its inputs.</p>\n",
    "\n",
    "<p>It is possible to define the decidability of a problem thanks to a man called Alan Turing. If 'Turing Machine' can be constructed to halt in a finite amout of time and give an answer of yes or no then the problem is said to be decidable. Alternatively if no such Turning machine can be constructed then the problem is said to be undecidable. The idea of an undecidable problem was first posed in 1911 by a man called Max Dehn who asked if there existed a finitely presented group for which no algorithm can determine weather two words are equivalent. Dehn's theory was proven to be the case in 1952</p>\n",
    "<hr>"
   ]
  },
  {
   "cell_type": "markdown",
   "id": "ee4ea51c-7e3a-46e3-9530-be5f72390e35",
   "metadata": {},
   "source": [
    "<h1>Post Correspondence Problem</h1>\n",
    "<p>Post Correspondence Problem (PCP), introduced by Emil Post in 1946, is an undecidable problem. A problem is said to be decidable when it can be answered correctly with an algorithm. In the case of a PCP, the problem cannot be solved using an algorithm in a finite amount of time.</p>\n",
    "<h3>Definition of the Problem</h3>\n",
    "<p>Given two lists; A and B, of none empty strings over the alphabet ∑ containing atleast two values. <br> \n",
    "    A = (𝑥1, 𝑥2, 𝑥3, 𝑥4,...., 𝑥n) <br>\n",
    "    B = (𝑥1, 𝑥2, 𝑥3, 𝑥4,...., 𝑥n) <br>\n",
    "    The solution is said to be Post Correspondence if 𝑥i1, 𝑥i2,..., 𝑥ik = 𝑦i1, 𝑦i2,..., 𝑦ik for i1, i2,..., ik, where 1 ≤ i^j ≤ n <br>\n",
    "    Simple put, if we have two list of N strings consisting of characters over and alphabet ∑, a solution must be found which gives the same result for both lists when the strings are concatenated using the solution,"
   ]
  },
  {
   "cell_type": "markdown",
   "id": "b8819a92-f552-42f8-bd67-546d7a251713",
   "metadata": {},
   "source": [
    "<h3>Example of the Problem</h3>"
   ]
  },
  {
   "cell_type": "code",
   "execution_count": 1,
   "id": "a4c35e46-d510-471e-a2ef-affeb3d5cebc",
   "metadata": {},
   "outputs": [],
   "source": [
    "a = 'a'\n",
    "b = 'b'"
   ]
  },
  {
   "cell_type": "code",
   "execution_count": 2,
   "id": "cd5c61eb-b93b-4022-84ff-3d45aa5280bd",
   "metadata": {},
   "outputs": [],
   "source": [
    "# List A\n",
    "A = ((a,), (a,b), (b, b, a))"
   ]
  },
  {
   "cell_type": "code",
   "execution_count": 3,
   "id": "97d758c7-83d9-4728-9708-792b7f4a8150",
   "metadata": {},
   "outputs": [
    {
     "data": {
      "text/plain": [
       "(('a',), ('a', 'b'), ('b', 'b', 'a'))"
      ]
     },
     "execution_count": 3,
     "metadata": {},
     "output_type": "execute_result"
    }
   ],
   "source": [
    "A"
   ]
  },
  {
   "cell_type": "code",
   "execution_count": 4,
   "id": "fff8e41c-c628-4b1f-bec5-da73d8c36062",
   "metadata": {},
   "outputs": [],
   "source": [
    "# List B\n",
    "B = ((b, a, a), (a, a), (b, b))"
   ]
  },
  {
   "cell_type": "code",
   "execution_count": 5,
   "id": "37c9e5b7-3a02-442f-af74-dd829f3f2231",
   "metadata": {},
   "outputs": [
    {
     "data": {
      "text/plain": [
       "(('b', 'a', 'a'), ('a', 'a'), ('b', 'b'))"
      ]
     },
     "execution_count": 5,
     "metadata": {},
     "output_type": "execute_result"
    }
   ],
   "source": [
    "B"
   ]
  },
  {
   "cell_type": "code",
   "execution_count": 6,
   "id": "237c861d-e9f5-4886-9cbc-bb797750e161",
   "metadata": {},
   "outputs": [],
   "source": [
    "# A proposed solution\n",
    "S = (2, 1, 2, 0)"
   ]
  },
  {
   "cell_type": "code",
   "execution_count": 7,
   "id": "758a0259-cf2b-416d-a33d-bb64977f0855",
   "metadata": {},
   "outputs": [],
   "source": [
    "# Applying the proposed solution to a tuple\n",
    "def apply(S, L):\n",
    "    S_on_L = [''.join(L[i]) for i in S]\n",
    "    return ''.join(S_on_L)"
   ]
  },
  {
   "cell_type": "code",
   "execution_count": 8,
   "id": "b4685bed-b8ab-47c6-9f2f-7620654cbd2a",
   "metadata": {},
   "outputs": [
    {
     "data": {
      "text/plain": [
       "'bbaabbbaa'"
      ]
     },
     "execution_count": 8,
     "metadata": {},
     "output_type": "execute_result"
    }
   ],
   "source": [
    "# Applying the porposed solution to A\n",
    "apply(S, A)"
   ]
  },
  {
   "cell_type": "code",
   "execution_count": 9,
   "id": "9ca499eb-44e3-4c6b-a050-a8c2d35e6d2a",
   "metadata": {},
   "outputs": [
    {
     "data": {
      "text/plain": [
       "'bbaabbbaa'"
      ]
     },
     "execution_count": 9,
     "metadata": {},
     "output_type": "execute_result"
    }
   ],
   "source": [
    "# Applying the proposed solution to B\n",
    "apply(S, B)"
   ]
  },
  {
   "cell_type": "code",
   "execution_count": 10,
   "id": "16eea5ff-4709-4b1e-8f23-707368f5d67b",
   "metadata": {},
   "outputs": [
    {
     "data": {
      "text/plain": [
       "True"
      ]
     },
     "execution_count": 10,
     "metadata": {},
     "output_type": "execute_result"
    }
   ],
   "source": [
    "# Checking to see if the proposed solution is a solution\n",
    "apply(S, A) == apply(S, B)"
   ]
  },
  {
   "cell_type": "code",
   "execution_count": null,
   "id": "4307d9ae-406b-4566-8a5f-b9132fbe6dfe",
   "metadata": {},
   "outputs": [],
   "source": []
  }
 ],
 "metadata": {
  "kernelspec": {
   "display_name": "Python 3",
   "language": "python",
   "name": "python3"
  },
  "language_info": {
   "codemirror_mode": {
    "name": "ipython",
    "version": 3
   },
   "file_extension": ".py",
   "mimetype": "text/x-python",
   "name": "python",
   "nbconvert_exporter": "python",
   "pygments_lexer": "ipython3",
   "version": "3.8.8"
  }
 },
 "nbformat": 4,
 "nbformat_minor": 5
}

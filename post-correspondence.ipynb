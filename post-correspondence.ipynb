{
 "cells": [
  {
   "cell_type": "markdown",
   "id": "71748d4d-27c8-493e-a701-601e44ae75d5",
   "metadata": {},
   "source": [
    "<h2>Post Correspondence Problem Notebook</h2>\n",
    "<hr>\n",
    "<h3>Undecidable Problems</h3>\n",
    "<p>Suppose we have an algorithm designed to to solve a decision problem. The algorithm will take in its set of input factors and return a value of either 'Yes' or 'No'. In computational theory this is known as a decidable problem. A decidable problem is defined as a problem that can have all its inputs solved using an algorithm. On the other hand, an undecidable problem is a problem in which no algorithm is capable of always returning a value for its inputs.</p>\n",
    "\n",
    "<p>It is possible to define the decidability of a problem thanks to a man called Alan Turing. If 'Turing Machine' can be constructed to halt in a finite amout of time and give an answer of yes or no then the problem is said to be decidable. Alternatively if no such Turning machine can be constructed then the problem is said to be undecidable. The idea of an undecidable problem was first posed in 1911 by a man called Max Dehn who asked if there existed a finitely presented group for which no algorithm can determine weather two words are equivalent. Dehn's theory was proven to be the case in 1952</p>\n",
    "<hr>"
   ]
  },
  {
   "cell_type": "markdown",
   "id": "ee4ea51c-7e3a-46e3-9530-be5f72390e35",
   "metadata": {},
   "source": [
    "<h1>Post Correspondence Problem</h1>\n",
    "<p>Post Correspondence Problem (PCP), introduced by Emil Post in 1946, is an undecidable problem. A problem is said to be decidable when it can be answered correctly with an algorithm. In the case of a PCP, the problem cannot be solved using an algorithm in a finite amount of time.</p>\n",
    "<h3>Definition of the Problem</h3>\n",
    "<p>Given two lists; A and B, of none empty strings over the alphabet ∑ containing atleast two values. <br> \n",
    "    A = (𝑥1, 𝑥2, 𝑥3, 𝑥4,...., 𝑥n) <br>\n",
    "    B = (𝑥1, 𝑥2, 𝑥3, 𝑥4,...., 𝑥n) <br>\n",
    "    The solution is said to be Post Correspondence if 𝑥i1, 𝑥i2,..., 𝑥ik = 𝑦i1, 𝑦i2,..., 𝑦ik for i1, i2,..., ik, where 1 ≤ i^j ≤ n <br>\n",
    "    Simple put, if we have two list of N strings consisting of characters over and alphabet ∑, a solution must be found which gives the same result for both lists when the strings are concatenated using the solution.</p>"
   ]
  },
  {
   "cell_type": "markdown",
   "id": "b8819a92-f552-42f8-bd67-546d7a251713",
   "metadata": {},
   "source": [
    "<h3>Example of the Problem</h3>"
   ]
  },
  {
   "cell_type": "code",
   "execution_count": 1,
   "id": "a4c35e46-d510-471e-a2ef-affeb3d5cebc",
   "metadata": {},
   "outputs": [],
   "source": [
    "a = 'a'\n",
    "b = 'b'"
   ]
  },
  {
   "cell_type": "code",
   "execution_count": 2,
   "id": "cd5c61eb-b93b-4022-84ff-3d45aa5280bd",
   "metadata": {},
   "outputs": [],
   "source": [
    "# List A\n",
    "A = ((a,), (a,b), (b, b, a))"
   ]
  },
  {
   "cell_type": "code",
   "execution_count": 3,
   "id": "97d758c7-83d9-4728-9708-792b7f4a8150",
   "metadata": {},
   "outputs": [
    {
     "data": {
      "text/plain": [
       "(('a',), ('a', 'b'), ('b', 'b', 'a'))"
      ]
     },
     "execution_count": 3,
     "metadata": {},
     "output_type": "execute_result"
    }
   ],
   "source": [
    "A"
   ]
  },
  {
   "cell_type": "code",
   "execution_count": 4,
   "id": "fff8e41c-c628-4b1f-bec5-da73d8c36062",
   "metadata": {},
   "outputs": [],
   "source": [
    "# List B\n",
    "B = ((b, a, a), (a, a), (b, b))"
   ]
  },
  {
   "cell_type": "code",
   "execution_count": 5,
   "id": "37c9e5b7-3a02-442f-af74-dd829f3f2231",
   "metadata": {},
   "outputs": [
    {
     "data": {
      "text/plain": [
       "(('b', 'a', 'a'), ('a', 'a'), ('b', 'b'))"
      ]
     },
     "execution_count": 5,
     "metadata": {},
     "output_type": "execute_result"
    }
   ],
   "source": [
    "B"
   ]
  },
  {
   "cell_type": "code",
   "execution_count": 6,
   "id": "237c861d-e9f5-4886-9cbc-bb797750e161",
   "metadata": {},
   "outputs": [],
   "source": [
    "# A proposed solution\n",
    "S = (2, 1, 2, 0)"
   ]
  },
  {
   "cell_type": "code",
   "execution_count": 7,
   "id": "758a0259-cf2b-416d-a33d-bb64977f0855",
   "metadata": {},
   "outputs": [],
   "source": [
    "# Applying the proposed solution to a tuple\n",
    "def apply(S, L):\n",
    "    S_on_L = [''.join(L[i]) for i in S]\n",
    "    return ''.join(S_on_L)"
   ]
  },
  {
   "cell_type": "code",
   "execution_count": 8,
   "id": "b4685bed-b8ab-47c6-9f2f-7620654cbd2a",
   "metadata": {},
   "outputs": [
    {
     "data": {
      "text/plain": [
       "'bbaabbbaa'"
      ]
     },
     "execution_count": 8,
     "metadata": {},
     "output_type": "execute_result"
    }
   ],
   "source": [
    "# Applying the porposed solution to A\n",
    "apply(S, A)"
   ]
  },
  {
   "cell_type": "code",
   "execution_count": 9,
   "id": "9ca499eb-44e3-4c6b-a050-a8c2d35e6d2a",
   "metadata": {},
   "outputs": [
    {
     "data": {
      "text/plain": [
       "'bbaabbbaa'"
      ]
     },
     "execution_count": 9,
     "metadata": {},
     "output_type": "execute_result"
    }
   ],
   "source": [
    "# Applying the proposed solution to B\n",
    "apply(S, B)"
   ]
  },
  {
   "cell_type": "code",
   "execution_count": 10,
   "id": "16eea5ff-4709-4b1e-8f23-707368f5d67b",
   "metadata": {},
   "outputs": [
    {
     "data": {
      "text/plain": [
       "True"
      ]
     },
     "execution_count": 10,
     "metadata": {},
     "output_type": "execute_result"
    }
   ],
   "source": [
    "# Checking to see if the proposed solution is a solution\n",
    "apply(S, A) == apply(S, B)"
   ]
  },
  {
   "cell_type": "markdown",
   "id": "1847c9ca-6a1a-44c1-892f-5fc14c9b1bdd",
   "metadata": {},
   "source": [
    "<hr>"
   ]
  },
  {
   "cell_type": "markdown",
   "id": "b5387876-d980-4e99-9e60-e6eb2e51eca5",
   "metadata": {},
   "source": [
    "<h3>Bounded Post Correspondence Problem</h3>\n",
    "<p>Bounded PCP is one of the most important forms of PCP. In Bounded Post Correspondence Problem, the number of tiles used to find a match is no more than k, including repeats. This problem can be solved in time using O(2^k), however this can be difficult to improve upon and so, no efficient algorithm existis in order to solve this problem, since the problem is NP-complete.</p>\n",
    "<br>\n",
    "<h4>Example of the Bounded Post Correspondence Problem</h4>\n",
    "<p>Given 2 lists;<br>\n",
    "    A = (abb, aa)<br>\n",
    "    B= (bba, aaa)<br>\n",
    "    In PCP there are an infinite number of combinations for the fiven lists;<br>\n",
    "    (1), (2), (1,1), (1,2), (2,1), (2,2), (1,1,1), (1,1,2)....<br>\n",
    "    If we define k as 3 the number of combinations for the given lists get limited to;<br>\n",
    "    (1), (2), (1,1), (1,2), (2,1), (2,2), (1,1,1), (1,1,2), (1,2,2), (2,1,2) and (2,2,2)<br>\n",
    "    Using the Bounded Post Correspondence Methos simplifies the soulution space.</p>"
   ]
  },
  {
   "cell_type": "markdown",
   "id": "fe0bc85c-e907-4392-97dd-8fa6ce382f9e",
   "metadata": {},
   "source": [
    "<h3>Function to solver Bounded Post Correspondence Problem"
   ]
  },
  {
   "cell_type": "code",
   "execution_count": 1,
   "id": "1c023e6a-6b8c-4acc-9c65-3588ef65bcdc",
   "metadata": {},
   "outputs": [],
   "source": [
    "from itertools import product\n",
    "\n",
    "# All possible combinations are given as a list of tiles\n",
    "def get_combination(list, k):\n",
    "\n",
    "    combinations = []\n",
    "    for i in range(1,k + 1):\n",
    "        for item in product(list, repeat = i):\n",
    "            combinations.append(\"\".join(item))\n",
    "    return combinations"
   ]
  },
  {
   "cell_type": "code",
   "execution_count": 2,
   "id": "2d85487d-a4a5-414a-b6a0-b5c5f0495902",
   "metadata": {},
   "outputs": [
    {
     "name": "stdout",
     "output_type": "stream",
     "text": [
      "['AB', 'B', 'ABAB', 'ABB', 'BAB', 'BB', 'ABABAB', 'ABABB', 'ABBAB', 'ABBB', 'BABAB', 'BABB', 'BBAB', 'BBB']\n"
     ]
    }
   ],
   "source": [
    "list1= [\"AB\", \"B\"]\n",
    "k=3\n",
    "print(get_combination(list1, k))"
   ]
  },
  {
   "cell_type": "code",
   "execution_count": 3,
   "id": "cdee3029-9f00-4ec4-8c6f-32c6b57baa41",
   "metadata": {},
   "outputs": [],
   "source": [
    "import numpy as np\n",
    "def bounded_solver(L1,L2,k):\n",
    "    \n",
    "    A = np.array(get_combination(L1, k))\n",
    "    B = np.array(get_combination(L2, k))\n",
    "    print(A)\n",
    "    print(B)\n",
    "    \n",
    "    if(np.where(A == B)):\n",
    "        return True\n",
    "    return False"
   ]
  },
  {
   "cell_type": "code",
   "execution_count": 6,
   "id": "40c33366-1e6f-438d-9def-3345aef5f27e",
   "metadata": {},
   "outputs": [
    {
     "name": "stdout",
     "output_type": "stream",
     "text": [
      "['abb' 'aa' 'aaa' 'abbabb' 'abbaa' 'abbaaa' 'aaabb' 'aaaa' 'aaaaa'\n",
      " 'aaaabb' 'aaaaa' 'aaaaaa']\n",
      "['bba' 'aaa' 'aa' 'bbabba' 'bbaaaa' 'bbaaa' 'aaabba' 'aaaaaa' 'aaaaa'\n",
      " 'aabba' 'aaaaa' 'aaaa']\n"
     ]
    },
    {
     "data": {
      "text/plain": [
       "True"
      ]
     },
     "execution_count": 6,
     "metadata": {},
     "output_type": "execute_result"
    }
   ],
   "source": [
    "A = [\"abb\", \"aa\", \"aaa\"]\n",
    "B = [\"bba\", \"aaa\", \"aa\"]\n",
    "# Using (2, 1, 3)\n",
    "bounded_solver(A, B, 2)"
   ]
  },
  {
   "cell_type": "code",
   "execution_count": 8,
   "id": "2862bac2-4c24-428d-bc8e-b318efea9e2e",
   "metadata": {},
   "outputs": [
    {
     "name": "stdout",
     "output_type": "stream",
     "text": [
      "['aa' 'bb' 'abb' 'aaaa' 'aabb' 'aaabb' 'bbaa' 'bbbb' 'bbabb' 'abbaa'\n",
      " 'abbbb' 'abbabb' 'aaaaaa' 'aaaabb' 'aaaaabb' 'aabbaa' 'aabbbb' 'aabbabb'\n",
      " 'aaabbaa' 'aaabbbb' 'aaabbabb' 'bbaaaa' 'bbaabb' 'bbaaabb' 'bbbbaa'\n",
      " 'bbbbbb' 'bbbbabb' 'bbabbaa' 'bbabbbb' 'bbabbabb' 'abbaaaa' 'abbaabb'\n",
      " 'abbaaabb' 'abbbbaa' 'abbbbbb' 'abbbbabb' 'abbabbaa' 'abbabbbb'\n",
      " 'abbabbabb' 'aaaaaaaa' 'aaaaaabb' 'aaaaaaabb' 'aaaabbaa' 'aaaabbbb'\n",
      " 'aaaabbabb' 'aaaaabbaa' 'aaaaabbbb' 'aaaaabbabb' 'aabbaaaa' 'aabbaabb'\n",
      " 'aabbaaabb' 'aabbbbaa' 'aabbbbbb' 'aabbbbabb' 'aabbabbaa' 'aabbabbbb'\n",
      " 'aabbabbabb' 'aaabbaaaa' 'aaabbaabb' 'aaabbaaabb' 'aaabbbbaa' 'aaabbbbbb'\n",
      " 'aaabbbbabb' 'aaabbabbaa' 'aaabbabbbb' 'aaabbabbabb' 'bbaaaaaa'\n",
      " 'bbaaaabb' 'bbaaaaabb' 'bbaabbaa' 'bbaabbbb' 'bbaabbabb' 'bbaaabbaa'\n",
      " 'bbaaabbbb' 'bbaaabbabb' 'bbbbaaaa' 'bbbbaabb' 'bbbbaaabb' 'bbbbbbaa'\n",
      " 'bbbbbbbb' 'bbbbbbabb' 'bbbbabbaa' 'bbbbabbbb' 'bbbbabbabb' 'bbabbaaaa'\n",
      " 'bbabbaabb' 'bbabbaaabb' 'bbabbbbaa' 'bbabbbbbb' 'bbabbbbabb'\n",
      " 'bbabbabbaa' 'bbabbabbbb' 'bbabbabbabb' 'abbaaaaaa' 'abbaaaabb'\n",
      " 'abbaaaaabb' 'abbaabbaa' 'abbaabbbb' 'abbaabbabb' 'abbaaabbaa'\n",
      " 'abbaaabbbb' 'abbaaabbabb' 'abbbbaaaa' 'abbbbaabb' 'abbbbaaabb'\n",
      " 'abbbbbbaa' 'abbbbbbbb' 'abbbbbbabb' 'abbbbabbaa' 'abbbbabbbb'\n",
      " 'abbbbabbabb' 'abbabbaaaa' 'abbabbaabb' 'abbabbaaabb' 'abbabbbbaa'\n",
      " 'abbabbbbbb' 'abbabbbbabb' 'abbabbabbaa' 'abbabbabbbb' 'abbabbabbabb']\n",
      "['aab' 'ba' 'b' 'aabaab' 'aabba' 'aabb' 'baaab' 'baba' 'bab' 'baab' 'bba'\n",
      " 'bb' 'aabaabaab' 'aabaabba' 'aabaabb' 'aabbaaab' 'aabbaba' 'aabbab'\n",
      " 'aabbaab' 'aabbba' 'aabbb' 'baaabaab' 'baaabba' 'baaabb' 'babaaab'\n",
      " 'bababa' 'babab' 'babaab' 'babba' 'babb' 'baabaab' 'baabba' 'baabb'\n",
      " 'bbaaab' 'bbaba' 'bbab' 'bbaab' 'bbba' 'bbb' 'aabaabaabaab' 'aabaabaabba'\n",
      " 'aabaabaabb' 'aabaabbaaab' 'aabaabbaba' 'aabaabbab' 'aabaabbaab'\n",
      " 'aabaabbba' 'aabaabbb' 'aabbaaabaab' 'aabbaaabba' 'aabbaaabb'\n",
      " 'aabbabaaab' 'aabbababa' 'aabbabab' 'aabbabaab' 'aabbabba' 'aabbabb'\n",
      " 'aabbaabaab' 'aabbaabba' 'aabbaabb' 'aabbbaaab' 'aabbbaba' 'aabbbab'\n",
      " 'aabbbaab' 'aabbbba' 'aabbbb' 'baaabaabaab' 'baaabaabba' 'baaabaabb'\n",
      " 'baaabbaaab' 'baaabbaba' 'baaabbab' 'baaabbaab' 'baaabbba' 'baaabbb'\n",
      " 'babaaabaab' 'babaaabba' 'babaaabb' 'bababaaab' 'babababa' 'bababab'\n",
      " 'bababaab' 'bababba' 'bababb' 'babaabaab' 'babaabba' 'babaabb' 'babbaaab'\n",
      " 'babbaba' 'babbab' 'babbaab' 'babbba' 'babbb' 'baabaabaab' 'baabaabba'\n",
      " 'baabaabb' 'baabbaaab' 'baabbaba' 'baabbab' 'baabbaab' 'baabbba' 'baabbb'\n",
      " 'bbaaabaab' 'bbaaabba' 'bbaaabb' 'bbabaaab' 'bbababa' 'bbabab' 'bbabaab'\n",
      " 'bbabba' 'bbabb' 'bbaabaab' 'bbaabba' 'bbaabb' 'bbbaaab' 'bbbaba' 'bbbab'\n",
      " 'bbbaab' 'bbbba' 'bbbb']\n"
     ]
    },
    {
     "data": {
      "text/plain": [
       "True"
      ]
     },
     "execution_count": 8,
     "metadata": {},
     "output_type": "execute_result"
    }
   ],
   "source": [
    "A = [\"aa\", \"bb\", \"abb\"]\n",
    "B = [\"aab\", \"ba\", \"b\"]\n",
    "\n",
    "# Using(1, 2, 1, 3)\n",
    "bounded_solver(A, B, 4)"
   ]
  },
  {
   "cell_type": "code",
   "execution_count": null,
   "id": "1a7d18bd-f9cf-44e7-886a-15af4004db2b",
   "metadata": {},
   "outputs": [],
   "source": []
  }
 ],
 "metadata": {
  "kernelspec": {
   "display_name": "Python 3",
   "language": "python",
   "name": "python3"
  },
  "language_info": {
   "codemirror_mode": {
    "name": "ipython",
    "version": 3
   },
   "file_extension": ".py",
   "mimetype": "text/x-python",
   "name": "python",
   "nbconvert_exporter": "python",
   "pygments_lexer": "ipython3",
   "version": "3.8.8"
  }
 },
 "nbformat": 4,
 "nbformat_minor": 5
}
